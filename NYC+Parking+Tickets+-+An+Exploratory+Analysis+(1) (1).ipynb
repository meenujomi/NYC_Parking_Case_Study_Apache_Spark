{
 "cells": [
  {
   "cell_type": "markdown",
   "metadata": {},
   "source": [
    "### Objectives of the Case Study<br>\n",
    "Primarily, this case study is meant as a deep dive into the usage of Spark. As you saw while working with Spark, its syntax behaves differently from a regular Python syntax. One of the major objectives of this case study is to gain familiarity with how analysis works in PySpark as opposed to base Python.<br>\n",
    "\n",
    "The process of running a model-building command boils down to a few lines of code. While drawing inferences from data, the most time-consuming step is preparing the data up to the point of model building. So, this case study will focus more on exploratory analysis."
   ]
  },
  {
   "cell_type": "code",
   "execution_count": 1,
   "metadata": {},
   "outputs": [],
   "source": [
    "# Importing spark session\n",
    "from pyspark.sql import SparkSession\n",
    "spark = SparkSession.builder \\\n",
    "            .appName(\"EDA\") \\\n",
    "            .getOrCreate()"
   ]
  },
  {
   "cell_type": "code",
   "execution_count": 2,
   "metadata": {},
   "outputs": [],
   "source": [
    "# Loading the data\n",
    "df = spark.read.format(\"csv\").option(\"header\", \"true\").option(\"inferSchema\", \"true\").load('/common_folder/nyc_parking/Parking_Violations_Issued_-_Fiscal_Year_2017.csv')"
   ]
  },
  {
   "cell_type": "code",
   "execution_count": 3,
   "metadata": {},
   "outputs": [
    {
     "name": "stdout",
     "output_type": "stream",
     "text": [
      "+--------------+--------+------------------+-------------------+--------------+-----------------+------------+------------------+---------------+--------------+\n",
      "|Summons Number|Plate ID|Registration State|         Issue Date|Violation Code|Vehicle Body Type|Vehicle Make|Violation Precinct|Issuer Precinct|Violation Time|\n",
      "+--------------+--------+------------------+-------------------+--------------+-----------------+------------+------------------+---------------+--------------+\n",
      "|    5092469481| GZH7067|                NY|2016-07-10 00:00:00|             7|             SUBN|       TOYOT|                 0|              0|         0143A|\n",
      "|    5092451658| GZH7067|                NY|2016-07-08 00:00:00|             7|             SUBN|       TOYOT|                 0|              0|         0400P|\n",
      "|    4006265037| FZX9232|                NY|2016-08-23 00:00:00|             5|             SUBN|        FORD|                 0|              0|         0233P|\n",
      "|    8478629828| 66623ME|                NY|2017-06-14 00:00:00|            47|             REFG|       MITSU|                14|             14|         1120A|\n",
      "|    7868300310| 37033JV|                NY|2016-11-21 00:00:00|            69|             DELV|       INTER|                13|             13|         0555P|\n",
      "|    5096917368| FZD8593|                NY|2017-06-13 00:00:00|             7|             SUBN|       ME/BE|                 0|              0|         0852P|\n",
      "|    1413609545|  X20DCM|                NJ|2016-08-03 00:00:00|            40|              SDN|       TOYOT|                71|             71|         0215A|\n",
      "|    4628525523|  326SF9|                MA|2016-12-21 00:00:00|            36|               UT|         BMW|                 0|              0|         0758A|\n",
      "|    4627113330| HCA5464|                NY|2016-11-21 00:00:00|            36|             SUBN|       DODGE|                 0|              0|         1005A|\n",
      "|    4006478550| VAD7274|                VA|2016-10-05 00:00:00|             5|               4D|         BMW|                 0|              0|         0845A|\n",
      "+--------------+--------+------------------+-------------------+--------------+-----------------+------------+------------------+---------------+--------------+\n",
      "only showing top 10 rows\n",
      "\n"
     ]
    }
   ],
   "source": [
    "# having a look at the data of first 10 rows\n",
    "df.show(10)"
   ]
  },
  {
   "cell_type": "code",
   "execution_count": 4,
   "metadata": {},
   "outputs": [
    {
     "data": {
      "text/plain": [
       "['Summons Number',\n",
       " 'Plate ID',\n",
       " 'Registration State',\n",
       " 'Issue Date',\n",
       " 'Violation Code',\n",
       " 'Vehicle Body Type',\n",
       " 'Vehicle Make',\n",
       " 'Violation Precinct',\n",
       " 'Issuer Precinct',\n",
       " 'Violation Time']"
      ]
     },
     "execution_count": 4,
     "metadata": {},
     "output_type": "execute_result"
    }
   ],
   "source": [
    "# Viewing all the columns of the data set\n",
    "df.columns"
   ]
  },
  {
   "cell_type": "code",
   "execution_count": 5,
   "metadata": {},
   "outputs": [
    {
     "data": {
      "text/plain": [
       "10"
      ]
     },
     "execution_count": 5,
     "metadata": {},
     "output_type": "execute_result"
    }
   ],
   "source": [
    "# number of columns\n",
    "len(df.columns)"
   ]
  },
  {
   "cell_type": "code",
   "execution_count": 6,
   "metadata": {},
   "outputs": [
    {
     "data": {
      "text/plain": [
       "10803028"
      ]
     },
     "execution_count": 6,
     "metadata": {},
     "output_type": "execute_result"
    }
   ],
   "source": [
    "# Looking at the number of enteries in the data\n",
    "df.count()"
   ]
  },
  {
   "cell_type": "code",
   "execution_count": 7,
   "metadata": {},
   "outputs": [
    {
     "name": "stdout",
     "output_type": "stream",
     "text": [
      "root\n",
      " |-- Summons Number: long (nullable = true)\n",
      " |-- Plate ID: string (nullable = true)\n",
      " |-- Registration State: string (nullable = true)\n",
      " |-- Issue Date: timestamp (nullable = true)\n",
      " |-- Violation Code: integer (nullable = true)\n",
      " |-- Vehicle Body Type: string (nullable = true)\n",
      " |-- Vehicle Make: string (nullable = true)\n",
      " |-- Violation Precinct: integer (nullable = true)\n",
      " |-- Issuer Precinct: integer (nullable = true)\n",
      " |-- Violation Time: string (nullable = true)\n",
      "\n"
     ]
    }
   ],
   "source": [
    "# Looking foir the type of the columns\n",
    "df.printSchema()"
   ]
  },
  {
   "cell_type": "code",
   "execution_count": 8,
   "metadata": {},
   "outputs": [
    {
     "data": {
      "text/plain": [
       "StructType(List(StructField(Summons Number,LongType,true),StructField(Plate ID,StringType,true),StructField(Registration State,StringType,true),StructField(Issue Date,TimestampType,true),StructField(Violation Code,IntegerType,true),StructField(Vehicle Body Type,StringType,true),StructField(Vehicle Make,StringType,true),StructField(Violation Precinct,IntegerType,true),StructField(Issuer Precinct,IntegerType,true),StructField(Violation Time,StringType,true)))"
      ]
     },
     "execution_count": 8,
     "metadata": {},
     "output_type": "execute_result"
    }
   ],
   "source": [
    "df.schema"
   ]
  },
  {
   "cell_type": "code",
   "execution_count": 9,
   "metadata": {},
   "outputs": [
    {
     "data": {
      "text/plain": [
       "10803028"
      ]
     },
     "execution_count": 9,
     "metadata": {},
     "output_type": "execute_result"
    }
   ],
   "source": [
    "# Droping duplicates, hence cleaning data\n",
    "nyc = df.dropDuplicates()\n",
    "nyc.count()"
   ]
  },
  {
   "cell_type": "code",
   "execution_count": 10,
   "metadata": {
    "scrolled": true
   },
   "outputs": [
    {
     "name": "stdout",
     "output_type": "stream",
     "text": [
      "+-------+--------------------+\n",
      "|summary|      Summons Number|\n",
      "+-------+--------------------+\n",
      "|  count|            10803028|\n",
      "|   mean| 6.817447029065294E9|\n",
      "| stddev|2.3202339623282146E9|\n",
      "|    min|          1002884949|\n",
      "|    max|          8585600044|\n",
      "+-------+--------------------+\n",
      "\n"
     ]
    }
   ],
   "source": [
    "# Description of Summons Number Column\n",
    "nyc.describe(\"Summons Number\").show()"
   ]
  },
  {
   "cell_type": "code",
   "execution_count": 11,
   "metadata": {},
   "outputs": [
    {
     "name": "stdout",
     "output_type": "stream",
     "text": [
      "+-------+--------+\n",
      "|summary|Plate ID|\n",
      "+-------+--------+\n",
      "|  count|10803028|\n",
      "|   mean|Infinity|\n",
      "| stddev|     NaN|\n",
      "|    min|   #1MOM|\n",
      "|    max|       ~|\n",
      "+-------+--------+\n",
      "\n"
     ]
    }
   ],
   "source": [
    "# Description of Plate ID Column\n",
    "nyc.describe(\"Plate ID\").show()"
   ]
  },
  {
   "cell_type": "code",
   "execution_count": 12,
   "metadata": {},
   "outputs": [
    {
     "name": "stdout",
     "output_type": "stream",
     "text": [
      "+-------+------------------+\n",
      "|summary|Registration State|\n",
      "+-------+------------------+\n",
      "|  count|          10803028|\n",
      "|   mean|              99.0|\n",
      "| stddev|               0.0|\n",
      "|    min|                99|\n",
      "|    max|                WY|\n",
      "+-------+------------------+\n",
      "\n"
     ]
    }
   ],
   "source": [
    "# Description of Registration State Column\n",
    "nyc.describe(\"Registration State\").show()"
   ]
  },
  {
   "cell_type": "code",
   "execution_count": 13,
   "metadata": {},
   "outputs": [
    {
     "name": "stdout",
     "output_type": "stream",
     "text": [
      "+-------+------------------+\n",
      "|summary|    Violation Code|\n",
      "+-------+------------------+\n",
      "|  count|          10803028|\n",
      "|   mean|34.599430455979565|\n",
      "| stddev| 19.35986871632393|\n",
      "|    min|                 0|\n",
      "|    max|                99|\n",
      "+-------+------------------+\n",
      "\n"
     ]
    }
   ],
   "source": [
    "# Description of Violation Code Column\n",
    "nyc.describe(\"Violation Code\").show()"
   ]
  },
  {
   "cell_type": "code",
   "execution_count": 14,
   "metadata": {},
   "outputs": [
    {
     "name": "stdout",
     "output_type": "stream",
     "text": [
      "+-------+------------------+\n",
      "|summary| Vehicle Body Type|\n",
      "+-------+------------------+\n",
      "|  count|          10803028|\n",
      "|   mean|3.9258887134586864|\n",
      "| stddev|0.5013415469252523|\n",
      "|    min|                00|\n",
      "|    max|               nan|\n",
      "+-------+------------------+\n",
      "\n"
     ]
    }
   ],
   "source": [
    "# Description of Vehicle Body Type Column\n",
    "nyc.describe(\"Vehicle Body Type\").show()"
   ]
  },
  {
   "cell_type": "code",
   "execution_count": 15,
   "metadata": {},
   "outputs": [
    {
     "name": "stdout",
     "output_type": "stream",
     "text": [
      "+-------+------------------+\n",
      "|summary|      Vehicle Make|\n",
      "+-------+------------------+\n",
      "|  count|          10803028|\n",
      "|   mean| 6519.974025974026|\n",
      "| stddev|18091.257389147086|\n",
      "|    min|             ,FREI|\n",
      "|    max|               nan|\n",
      "+-------+------------------+\n",
      "\n"
     ]
    }
   ],
   "source": [
    "# Description of Vehicle Make Column\n",
    "nyc.describe(\"Vehicle Make\").show()"
   ]
  },
  {
   "cell_type": "code",
   "execution_count": 16,
   "metadata": {},
   "outputs": [
    {
     "name": "stdout",
     "output_type": "stream",
     "text": [
      "+-------+------------------+\n",
      "|summary|Violation Precinct|\n",
      "+-------+------------------+\n",
      "|  count|          10803028|\n",
      "|   mean| 45.01216260848347|\n",
      "| stddev|40.552560268436046|\n",
      "|    min|                 0|\n",
      "|    max|               933|\n",
      "+-------+------------------+\n",
      "\n"
     ]
    }
   ],
   "source": [
    "# Description of Violation Precinct Column\n",
    "nyc.describe(\"Violation Precinct\").show()"
   ]
  },
  {
   "cell_type": "code",
   "execution_count": 17,
   "metadata": {},
   "outputs": [
    {
     "name": "stdout",
     "output_type": "stream",
     "text": [
      "+-------+-----------------+\n",
      "|summary|  Issuer Precinct|\n",
      "+-------+-----------------+\n",
      "|  count|         10803028|\n",
      "|   mean|46.82931211508477|\n",
      "| stddev|62.66703577269447|\n",
      "|    min|                0|\n",
      "|    max|              997|\n",
      "+-------+-----------------+\n",
      "\n"
     ]
    }
   ],
   "source": [
    "# Description of Issuer Precinct Column\n",
    "nyc.describe(\"Issuer Precinct\").show()"
   ]
  },
  {
   "cell_type": "code",
   "execution_count": 18,
   "metadata": {},
   "outputs": [
    {
     "name": "stdout",
     "output_type": "stream",
     "text": [
      "+-------+-----------------+\n",
      "|summary|   Violation Time|\n",
      "+-------+-----------------+\n",
      "|  count|         10803028|\n",
      "|   mean|909.2857142857143|\n",
      "| stddev|791.8453853409226|\n",
      "|    min|            .240P|\n",
      "|    max|              nan|\n",
      "+-------+-----------------+\n",
      "\n"
     ]
    }
   ],
   "source": [
    "# Description of Violation Time Column\n",
    "nyc.describe(\"Violation Time\").show()"
   ]
  },
  {
   "cell_type": "code",
   "execution_count": 19,
   "metadata": {},
   "outputs": [],
   "source": [
    "nyc.createOrReplaceTempView(\"df_table\")"
   ]
  },
  {
   "cell_type": "code",
   "execution_count": 20,
   "metadata": {},
   "outputs": [
    {
     "name": "stdout",
     "output_type": "stream",
     "text": [
      "root\n",
      " |-- Summons Number: long (nullable = true)\n",
      " |-- Plate ID: string (nullable = true)\n",
      " |-- Registration State: string (nullable = true)\n",
      " |-- Issue Date: timestamp (nullable = true)\n",
      " |-- Violation Code: integer (nullable = true)\n",
      " |-- Vehicle Body Type: string (nullable = true)\n",
      " |-- Vehicle Make: string (nullable = true)\n",
      " |-- Violation Precinct: integer (nullable = true)\n",
      " |-- Issuer Precinct: integer (nullable = true)\n",
      " |-- Violation Time: string (nullable = true)\n",
      "\n"
     ]
    }
   ],
   "source": [
    "nyc.printSchema()"
   ]
  },
  {
   "cell_type": "code",
   "execution_count": 21,
   "metadata": {},
   "outputs": [
    {
     "name": "stdout",
     "output_type": "stream",
     "text": [
      "+--------+\n",
      "|count(1)|\n",
      "+--------+\n",
      "|       0|\n",
      "+--------+\n",
      "\n"
     ]
    }
   ],
   "source": [
    "# Looking for null values\n",
    "null = spark.sql(\"select count(*) from df_table where `Summons Number` is null or `Plate ID` is null or `Registration State` is null or `Issue Date` is null or `Violation Code` is null or `Vehicle Body Type` is null or `Vehicle Make` is null or `Violation Precinct` is null or `Issuer Precinct` is null or `Violation Time` is null\")\n",
    "null.show()"
   ]
  },
  {
   "cell_type": "markdown",
   "metadata": {},
   "source": [
    "Looks like the data is clean and there are no null values"
   ]
  },
  {
   "cell_type": "code",
   "execution_count": 22,
   "metadata": {},
   "outputs": [
    {
     "data": {
      "text/plain": [
       "5431918"
      ]
     },
     "execution_count": 22,
     "metadata": {},
     "output_type": "execute_result"
    }
   ],
   "source": [
    "nyc = spark.sql(\"select * from df_table where year(TO_DATE(CAST(UNIX_TIMESTAMP(`Issue Date`,'MM/dd/yyyy') AS TIMESTAMP))) = 2017 \")\n",
    "nyc.count()"
   ]
  },
  {
   "cell_type": "code",
   "execution_count": 23,
   "metadata": {},
   "outputs": [],
   "source": [
    "# Importing Visualization Libraries\n",
    "import pandas as pd\n",
    "import matplotlib.pyplot as plt\n",
    "import seaborn as sns"
   ]
  },
  {
   "cell_type": "markdown",
   "metadata": {},
   "source": [
    "### EDA"
   ]
  },
  {
   "cell_type": "code",
   "execution_count": 24,
   "metadata": {},
   "outputs": [
    {
     "name": "stdout",
     "output_type": "stream",
     "text": [
      "+--------------+--------+------------------+-------------------+--------------+-----------------+------------+------------------+---------------+--------------+\n",
      "|summons_number|plate_id|registration_state|         issue_date|violation_code|vehicle_body_type|vehicle_make|violation_precinct|issuer_precinct|violation_time|\n",
      "+--------------+--------+------------------+-------------------+--------------+-----------------+------------+------------------+---------------+--------------+\n",
      "|    8497054040| 31416MG|                NY|2017-03-13 00:00:00|            47|             DELV|       FRUEH|                13|             13|         0148P|\n",
      "|    8510966837| 60978MC|                NY|2017-06-01 00:00:00|            69|              VAN|       CHEVR|                19|             19|         1044A|\n",
      "|    8522162037| AD53168|                CT|2017-05-24 00:00:00|            40|             4DSD|       CHEVR|                20|             20|         0515P|\n",
      "|    8511812398| GSC7992|                NY|2017-04-07 00:00:00|            38|             4DSD|       HONDA|                19|             19|         1007A|\n",
      "|    7079862437| ENL9949|                NY|2017-02-25 00:00:00|            14|             4DSD|       NISSA|               103|            103|         0202A|\n",
      "+--------------+--------+------------------+-------------------+--------------+-----------------+------------+------------------+---------------+--------------+\n",
      "only showing top 5 rows\n",
      "\n"
     ]
    }
   ],
   "source": [
    "nyc.createOrReplaceTempView(\"nyc_table\")\n",
    "df = spark.sql(\n",
    "    \"SELECT \\\n",
    "    `Summons Number` as `summons_number`, \\\n",
    "    `Plate ID` as `plate_id`, \\\n",
    "    `Registration State` as `registration_state`, \\\n",
    "    `Issue Date` as `issue_date`, \\\n",
    "    `Violation Code` as `violation_code`, \\\n",
    "    `Vehicle Body Type` as `vehicle_body_type`, \\\n",
    "    `Vehicle Make` as `vehicle_make`, \\\n",
    "    `Violation Precinct` as `violation_precinct`, \\\n",
    "    `Issuer Precinct` as `issuer_precinct`, \\\n",
    "    `Violation Time` as `violation_time` \\\n",
    "    FROM nyc_table\")\n",
    "df.show(5)"
   ]
  },
  {
   "cell_type": "code",
   "execution_count": 25,
   "metadata": {},
   "outputs": [],
   "source": [
    "df.createOrReplaceTempView(\"nyc_table\")"
   ]
  },
  {
   "cell_type": "code",
   "execution_count": 26,
   "metadata": {},
   "outputs": [
    {
     "name": "stdout",
     "output_type": "stream",
     "text": [
      "+----+-----+----------------+\n",
      "|year|month|Ticket_Frequency|\n",
      "+----+-----+----------------+\n",
      "|2017|    5|         1020244|\n",
      "|2017|    3|          964737|\n",
      "|2017|    4|          888402|\n",
      "|2017|    1|          877365|\n",
      "|2017|    6|          852187|\n",
      "|2017|    2|          826967|\n",
      "|2017|    7|             370|\n",
      "|2017|    9|             367|\n",
      "|2017|   12|             358|\n",
      "|2017|   11|             338|\n",
      "|2017|    8|             309|\n",
      "|2017|   10|             274|\n",
      "+----+-----+----------------+\n",
      "\n"
     ]
    }
   ],
   "source": [
    "Distribution= spark.sql(\"SELECT year(issue_date) as year,month(issue_date) as month,count(*) as Ticket_Frequency FROM nyc_table GROUP BY year(issue_date),month(issue_date) order by Ticket_Frequency desc\")\n",
    "Distribution.show()"
   ]
  },
  {
   "cell_type": "code",
   "execution_count": 27,
   "metadata": {},
   "outputs": [
    {
     "data": {
      "text/plain": [
       "<Figure size 432x288 with 0 Axes>"
      ]
     },
     "metadata": {},
     "output_type": "display_data"
    },
    {
     "data": {
      "image/png": "[encoded data removed]",
      "text/plain": [
       "<Figure size 432x288 with 1 Axes>"
      ]
     },
     "metadata": {},
     "output_type": "display_data"
    }
   ],
   "source": [
    "Number_of_Violations = Distribution.toPandas()\n",
    "plt.clf()\n",
    "Number_of_Violations.plot(x= 'month', y='Ticket_Frequency', kind='bar')\n",
    "plt.title(\"Violations month wise\")\n",
    "plt.xlabel('month')\n",
    "plt.ylabel('Ticket_Frequency')\n",
    "plt.show()"
   ]
  },
  {
   "cell_type": "code",
   "execution_count": 28,
   "metadata": {},
   "outputs": [
    {
     "name": "stdout",
     "output_type": "stream",
     "text": [
      "+----------+----------------+\n",
      "|  plate_id|Ticket_Frequency|\n",
      "+----------+----------------+\n",
      "|BLANKPLATE|            5261|\n",
      "|   96089MA|             529|\n",
      "|   96087MA|             528|\n",
      "|   94905JA|             527|\n",
      "|   14828MJ|             526|\n",
      "|   85848MD|             512|\n",
      "|   30954JX|             510|\n",
      "|   2121796|             507|\n",
      "+----------+----------------+\n",
      "\n"
     ]
    }
   ],
   "source": [
    "Plate_Id=spark.sql(\"Select plate_id, count(*) as Ticket_Frequency from nyc_table group by plate_id having count(*)>=500 order by Ticket_Frequency desc\")\n",
    "Plate_Id.show()"
   ]
  },
  {
   "cell_type": "code",
   "execution_count": 29,
   "metadata": {},
   "outputs": [
    {
     "data": {
      "text/plain": [
       "<Figure size 432x288 with 0 Axes>"
      ]
     },
     "metadata": {},
     "output_type": "display_data"
    },
    {
     "data": {
      "image/png": "[encoded data removed]",
      "text/plain": [
       "<Figure size 432x288 with 1 Axes>"
      ]
     },
     "metadata": {},
     "output_type": "display_data"
    }
   ],
   "source": [
    "Number_of_Violations_By_PlateID=Plate_Id.toPandas()\n",
    "plt.clf()\n",
    "Number_of_Violations_By_PlateID.plot(x= 'plate_id', y='Ticket_Frequency', kind='bar')\n",
    "plt.title(\"Number of Violations above 500 \")\n",
    "plt.xlabel('Plate_ID')\n",
    "plt.ylabel('Ticket_Frequency')\n",
    "plt.show()"
   ]
  },
  {
   "cell_type": "code",
   "execution_count": 30,
   "metadata": {},
   "outputs": [
    {
     "data": {
      "text/plain": [
       "65"
      ]
     },
     "execution_count": 30,
     "metadata": {},
     "output_type": "execute_result"
    }
   ],
   "source": [
    "q2=spark.sql(\"SELECT registration_state, Count(*) as Ticket_Frequency from nyc_table group by registration_state order by Ticket_Frequency desc\")\n",
    "q2.count()"
   ]
  },
  {
   "cell_type": "code",
   "execution_count": 31,
   "metadata": {},
   "outputs": [
    {
     "data": {
      "text/plain": [
       "<Figure size 7200x14400 with 0 Axes>"
      ]
     },
     "metadata": {},
     "output_type": "display_data"
    },
    {
     "data": {
      "image/png": "[encoded data removed]",
      "text/plain": [
       "<Figure size 432x288 with 1 Axes>"
      ]
     },
     "metadata": {},
     "output_type": "display_data"
    }
   ],
   "source": [
    "q2_for_plot = q2.toPandas()\n",
    "plt.figure(figsize=(100,200))\n",
    "q2_for_plot.head(10).plot(x='registration_state', y='Ticket_Frequency', kind='bar')\n",
    "plt.title(\"Violations on the basis of Registration State\")\n",
    "plt.xlabel('Registration State')\n",
    "plt.ylabel('Ticket Frequency')\n",
    "plt.show()"
   ]
  },
  {
   "cell_type": "code",
   "execution_count": 32,
   "metadata": {},
   "outputs": [
    {
     "data": {
      "image/png": "[encoded data removed]",
      "text/plain": [
       "<Figure size 1152x2304 with 1 Axes>"
      ]
     },
     "metadata": {},
     "output_type": "display_data"
    }
   ],
   "source": [
    "tickets = spark.sql(\"SELECT `violation_code`, count(*) as `Tickets form State` FROM nyc_table GROUP BY `violation_code`\")\n",
    "plotdata = tickets.toPandas().set_index('violation_code').plot.barh(figsize=(16, 32))"
   ]
  },
  {
   "cell_type": "markdown",
   "metadata": {},
   "source": [
    "### Examine the data"
   ]
  },
  {
   "cell_type": "markdown",
   "metadata": {},
   "source": [
    "#### 1. Find the total number of tickets for the year."
   ]
  },
  {
   "cell_type": "code",
   "execution_count": 33,
   "metadata": {},
   "outputs": [
    {
     "name": "stdout",
     "output_type": "stream",
     "text": [
      "+------------------------------------+\n",
      "|total number of tickets for the year|\n",
      "+------------------------------------+\n",
      "|                             5431918|\n",
      "+------------------------------------+\n",
      "\n"
     ]
    }
   ],
   "source": [
    "spark.sql(\"select count(*) as `total number of tickets for the year`\\\n",
    "          from nyc_table\").show()"
   ]
  },
  {
   "cell_type": "markdown",
   "metadata": {},
   "source": [
    "#### 2. Find out the number of unique states from where the cars that got parking tickets came."
   ]
  },
  {
   "cell_type": "code",
   "execution_count": 34,
   "metadata": {},
   "outputs": [
    {
     "name": "stdout",
     "output_type": "stream",
     "text": [
      "+------------------+\n",
      "|Registration State|\n",
      "+------------------+\n",
      "|                65|\n",
      "+------------------+\n",
      "\n"
     ]
    }
   ],
   "source": [
    "spark.sql(\"select count(distinct `registration_state`) as `Registration State`\\\n",
    "          from nyc_table\").show()"
   ]
  },
  {
   "cell_type": "markdown",
   "metadata": {},
   "source": [
    "### Aggregation tasks"
   ]
  },
  {
   "cell_type": "markdown",
   "metadata": {},
   "source": [
    "#### 1. How often does each violation code occur?"
   ]
  },
  {
   "cell_type": "code",
   "execution_count": 35,
   "metadata": {},
   "outputs": [
    {
     "name": "stdout",
     "output_type": "stream",
     "text": [
      "+--------------+----------------------------------------+\n",
      "|violation_code|Number of tickets for the violation code|\n",
      "+--------------+----------------------------------------+\n",
      "|            21|                                  768087|\n",
      "|            36|                                  662765|\n",
      "|            38|                                  542079|\n",
      "|            14|                                  476664|\n",
      "|            20|                                  319646|\n",
      "+--------------+----------------------------------------+\n",
      "\n"
     ]
    }
   ],
   "source": [
    "spark.sql(\"select `violation_code`, count(*) as `Number of tickets for the violation code`\\\n",
    "          from nyc_table\\\n",
    "          group by `violation_code`\\\n",
    "          order by `Number of tickets for the violation code` desc limit 5\").show()"
   ]
  },
  {
   "cell_type": "markdown",
   "metadata": {},
   "source": [
    "#### 2. How often does each 'vehicle body type' get a parking ticket? How about the 'vehicle make'?"
   ]
  },
  {
   "cell_type": "code",
   "execution_count": 36,
   "metadata": {},
   "outputs": [
    {
     "name": "stdout",
     "output_type": "stream",
     "text": [
      "+-----------------+-------------------------------------------+\n",
      "|vehicle_body_type|Number of tickets for the vehicle body type|\n",
      "+-----------------+-------------------------------------------+\n",
      "|             SUBN|                                    1883954|\n",
      "|             4DSD|                                    1547312|\n",
      "|              VAN|                                     724029|\n",
      "|             DELV|                                     358984|\n",
      "|              SDN|                                     194197|\n",
      "+-----------------+-------------------------------------------+\n",
      "\n"
     ]
    }
   ],
   "source": [
    "spark.sql(\"select `vehicle_body_type`, count(*) as `Number of tickets for the vehicle body type`\\\n",
    "          from nyc_table\\\n",
    "          group by `vehicle_body_type`\\\n",
    "          order by `Number of tickets for the vehicle body type` desc\\\n",
    "          limit 5\").show()"
   ]
  },
  {
   "cell_type": "code",
   "execution_count": 37,
   "metadata": {},
   "outputs": [
    {
     "name": "stdout",
     "output_type": "stream",
     "text": [
      "+------------+--------------------------------------+\n",
      "|vehicle_make|Number of tickets for the vehicle make|\n",
      "+------------+--------------------------------------+\n",
      "|        FORD|                                636844|\n",
      "|       TOYOT|                                605291|\n",
      "|       HONDA|                                538884|\n",
      "|       NISSA|                                462017|\n",
      "|       CHEVR|                                356032|\n",
      "+------------+--------------------------------------+\n",
      "\n"
     ]
    }
   ],
   "source": [
    "spark.sql(\"select `vehicle_make`, count(*) as `Number of tickets for the vehicle make`\\\n",
    "          from nyc_table\\\n",
    "          group by `vehicle_make`\\\n",
    "          order by `Number of tickets for the vehicle make` desc\\\n",
    "          limit 5\").show()"
   ]
  },
  {
   "cell_type": "markdown",
   "metadata": {},
   "source": [
    "#### 3. A precinct is a police station that has a certain zone of the city under its command. Find the (5 highest) frequencies of tickets for each of the following:"
   ]
  },
  {
   "cell_type": "markdown",
   "metadata": {},
   "source": [
    "- 'Violation Precinct' (This is the precinct of the zone where the violation occurred). Using this, can you draw any insights for parking violations in any specific areas of the city? "
   ]
  },
  {
   "cell_type": "code",
   "execution_count": 38,
   "metadata": {},
   "outputs": [
    {
     "name": "stdout",
     "output_type": "stream",
     "text": [
      "+------------------+--------------------------------------------+\n",
      "|violation_precinct|Number of tickets for the violation precinct|\n",
      "+------------------+--------------------------------------------+\n",
      "|                 0|                                      925596|\n",
      "|                19|                                      274445|\n",
      "|                14|                                      203553|\n",
      "|                 1|                                      174702|\n",
      "|                18|                                      169131|\n",
      "|               114|                                      147444|\n",
      "+------------------+--------------------------------------------+\n",
      "\n"
     ]
    }
   ],
   "source": [
    "# Taking 6 since the first one is not valid\n",
    "spark.sql(\"select `violation_precinct`, count(*) as `Number of tickets for the violation precinct`\\\n",
    "          from nyc_table\\\n",
    "          group by `violation_precinct`\\\n",
    "          order by `Number of tickets for the violation precinct` desc\\\n",
    "          limit 6\").show()"
   ]
  },
  {
   "cell_type": "markdown",
   "metadata": {},
   "source": [
    "- 'Issuer Precinct' (This is the precinct that issued the ticket.)"
   ]
  },
  {
   "cell_type": "code",
   "execution_count": 39,
   "metadata": {},
   "outputs": [
    {
     "name": "stdout",
     "output_type": "stream",
     "text": [
      "+---------------+-----------------------------------------+\n",
      "|issuer_precinct|Number of tickets for the issuer precinct|\n",
      "+---------------+-----------------------------------------+\n",
      "|              0|                                  1078406|\n",
      "|             19|                                   266961|\n",
      "|             14|                                   200495|\n",
      "|              1|                                   168740|\n",
      "|             18|                                   162994|\n",
      "|            114|                                   144054|\n",
      "+---------------+-----------------------------------------+\n",
      "\n"
     ]
    }
   ],
   "source": [
    "# Taking 6 since the first one is not valid\n",
    "spark.sql(\"select `issuer_precinct`, count(*) as `Number of tickets for the issuer precinct`\\\n",
    "          from nyc_table\\\n",
    "          group by `issuer_precinct`\\\n",
    "          order by `Number of tickets for the issuer precinct` desc\\\n",
    "          limit 6\").show()"
   ]
  },
  {
   "cell_type": "markdown",
   "metadata": {},
   "source": [
    "Precinct 19, 14, 1, 18 and 114 are common in both above query.\n",
    "There are many violations in precinct 19."
   ]
  },
  {
   "cell_type": "markdown",
   "metadata": {},
   "source": [
    "#### 4. Find the violation code frequencies for three precincts that have issued the most number of tickets. Do these precinct zones have an exceptionally high frequency of certain violation codes? Are these codes common across precincts? "
   ]
  },
  {
   "cell_type": "code",
   "execution_count": 40,
   "metadata": {},
   "outputs": [
    {
     "name": "stdout",
     "output_type": "stream",
     "text": [
      "+--------------+--------------------+\n",
      "|violation_code|Issuer precinct = 19|\n",
      "+--------------+--------------------+\n",
      "|            46|               48445|\n",
      "|            38|               36386|\n",
      "|            37|               36056|\n",
      "|            14|               29797|\n",
      "|            21|               28415|\n",
      "|            20|               14629|\n",
      "|            40|               11416|\n",
      "|            16|                9926|\n",
      "|            71|                7493|\n",
      "|            19|                6856|\n",
      "+--------------+--------------------+\n",
      "\n"
     ]
    }
   ],
   "source": [
    "spark.sql(\"select `violation_code`, count(*) as `Issuer precinct = 19`\\\n",
    "          from nyc_table\\\n",
    "          where `issuer_precinct` = 19\\\n",
    "          group by `violation_code`\\\n",
    "          order by `Issuer precinct = 19` desc\\\n",
    "          LIMIT 10\").show()"
   ]
  },
  {
   "cell_type": "code",
   "execution_count": 41,
   "metadata": {},
   "outputs": [
    {
     "name": "stdout",
     "output_type": "stream",
     "text": [
      "+--------------+--------------------+\n",
      "|violation_code|Issuer precinct = 14|\n",
      "+--------------+--------------------+\n",
      "|            14|               45036|\n",
      "|            69|               30464|\n",
      "|            31|               22555|\n",
      "|            47|               18364|\n",
      "|            42|               10027|\n",
      "|            46|                7679|\n",
      "|            19|                7031|\n",
      "|            84|                6743|\n",
      "|            82|                5052|\n",
      "|            40|                3582|\n",
      "+--------------+--------------------+\n",
      "\n"
     ]
    }
   ],
   "source": [
    "spark.sql(\"select `violation_code`, count(*) as `Issuer precinct = 14`\\\n",
    "          from nyc_table\\\n",
    "          where `issuer_precinct` = 14\\\n",
    "          group by `violation_code`\\\n",
    "          order by `Issuer precinct = 14` desc\\\n",
    "          LIMIT 10\").show()"
   ]
  },
  {
   "cell_type": "code",
   "execution_count": 42,
   "metadata": {},
   "outputs": [
    {
     "name": "stdout",
     "output_type": "stream",
     "text": [
      "+--------------+-------------------+\n",
      "|violation_code|Issuer precinct = 1|\n",
      "+--------------+-------------------+\n",
      "|            14|              38354|\n",
      "|            16|              19081|\n",
      "|            20|              15408|\n",
      "|            46|              12745|\n",
      "|            38|               8535|\n",
      "|            17|               7526|\n",
      "|            37|               6470|\n",
      "|            31|               5853|\n",
      "|            69|               5672|\n",
      "|            19|               5375|\n",
      "+--------------+-------------------+\n",
      "\n"
     ]
    }
   ],
   "source": [
    "spark.sql(\"select `violation_code`, count(*) as `Issuer precinct = 1`\\\n",
    "          from nyc_table\\\n",
    "          where `issuer_precinct` = 1\\\n",
    "          group by `violation_code`\\\n",
    "          order by `Issuer precinct = 1` desc\\\n",
    "          LIMIT 10\").show()"
   ]
  },
  {
   "cell_type": "markdown",
   "metadata": {},
   "source": [
    "There are violation codes having higher overall higher frequency"
   ]
  },
  {
   "cell_type": "markdown",
   "metadata": {},
   "source": [
    "#### 5. Find out the properties of parking violations across different times of the day:"
   ]
  },
  {
   "cell_type": "markdown",
   "metadata": {},
   "source": [
    "- Find a way to deal with missing values, if any."
   ]
  },
  {
   "cell_type": "code",
   "execution_count": 43,
   "metadata": {},
   "outputs": [
    {
     "name": "stdout",
     "output_type": "stream",
     "text": [
      "+-----------------+\n",
      "|Total null values|\n",
      "+-----------------+\n",
      "|                0|\n",
      "+-----------------+\n",
      "\n"
     ]
    }
   ],
   "source": [
    "null = spark.sql(\"select count(*) as `Total null values` from df_table where `Summons Number` is null or `Plate ID` is null or `Registration State` is null or `Issue Date` is null or `Violation Code` is null or `Vehicle Body Type` is null or `Vehicle Make` is null or `Violation Precinct` is null or `Issuer Precinct` is null or `Violation Time` is null\")\n",
    "null.show()"
   ]
  },
  {
   "cell_type": "markdown",
   "metadata": {},
   "source": [
    "There are no null values"
   ]
  },
  {
   "cell_type": "markdown",
   "metadata": {},
   "source": [
    "- The Violation Time field is specified in a strange format. Find a way to make this a time attribute that you can use to divide into groups."
   ]
  },
  {
   "cell_type": "code",
   "execution_count": 44,
   "metadata": {},
   "outputs": [],
   "source": [
    "from pyspark.sql.functions import col, regexp_replace, udf, date_format"
   ]
  },
  {
   "cell_type": "code",
   "execution_count": 45,
   "metadata": {},
   "outputs": [
    {
     "name": "stdout",
     "output_type": "stream",
     "text": [
      "+--------------+--------+\n",
      "|violation_time|criteria|\n",
      "+--------------+--------+\n",
      "|         2203P|   false|\n",
      "|         5028P|   false|\n",
      "|         115+A|   false|\n",
      "|           nan|   false|\n",
      "|         5620P|   false|\n",
      "|         7630P|   false|\n",
      "|         8424P|   false|\n",
      "|         09.5A|   false|\n",
      "|         5616P|   false|\n",
      "|         6815P|   false|\n",
      "|         7311P|   false|\n",
      "|           nan|   false|\n",
      "|         7824P|   false|\n",
      "|         4103P|   false|\n",
      "|         2711P|   false|\n",
      "|         6125P|   false|\n",
      "|         8722P|   false|\n",
      "|         093+A|   false|\n",
      "|           nan|   false|\n",
      "|           nan|   false|\n",
      "+--------------+--------+\n",
      "only showing top 20 rows\n",
      "\n"
     ]
    },
    {
     "data": {
      "text/plain": [
       "98"
      ]
     },
     "execution_count": 45,
     "metadata": {},
     "output_type": "execute_result"
    }
   ],
   "source": [
    "df.select(\"violation_time\", col(\"violation_time\").rlike(\"^[01][0-9]{3}[AP]$\").alias(\"criteria\")).where(col(\"criteria\")==\"false\").show()\n",
    "df.select(\"violation_time\", col(\"violation_time\").rlike(\"^[01][0-9]{3}[AP]$\").alias(\"criteria\")).where(col(\"criteria\")==\"false\").count()"
   ]
  },
  {
   "cell_type": "code",
   "execution_count": 46,
   "metadata": {},
   "outputs": [],
   "source": [
    "new_df = df.withColumn('violation_time', regexp_replace('violation_time', '^.*[^0-9AP].*$', '0000A'))\n",
    "new_df = new_df.withColumn('violation_time', regexp_replace('violation_time', '^.*[^AP]$', '0000A'))\n",
    "new_df = new_df.withColumn('violation_time', regexp_replace('violation_time', '^[^01].*$', '0000A'))\n",
    "new_df = new_df.withColumn('violation_time', regexp_replace('violation_time', '^[0-9AP]{1,4}$', '0000A'))"
   ]
  },
  {
   "cell_type": "code",
   "execution_count": 47,
   "metadata": {},
   "outputs": [
    {
     "name": "stdout",
     "output_type": "stream",
     "text": [
      "+--------------+--------+\n",
      "|violation_time|criteria|\n",
      "+--------------+--------+\n",
      "+--------------+--------+\n",
      "\n",
      "Initially 0000A count:  569\n",
      "Finally 0000A count:  667\n"
     ]
    }
   ],
   "source": [
    "new_df.select(\"violation_time\", col(\"violation_time\").rlike(\"^[01][0-9]{3}[AP]$\").alias(\"criteria\")).where(col(\"criteria\")==\"false\").show()\n",
    "print(\"Initially 0000A count: \",df.select(\"violation_time\").where(col(\"violation_time\")==\"0000A\").count())\n",
    "print(\"Finally 0000A count: \", new_df.select(\"violation_time\").where(col(\"violation_time\")==\"0000A\").count())"
   ]
  },
  {
   "cell_type": "code",
   "execution_count": 48,
   "metadata": {},
   "outputs": [
    {
     "name": "stdout",
     "output_type": "stream",
     "text": [
      "root\n",
      " |-- summons_number: long (nullable = true)\n",
      " |-- plate_id: string (nullable = true)\n",
      " |-- registration_state: string (nullable = true)\n",
      " |-- issue_date: timestamp (nullable = true)\n",
      " |-- violation_code: integer (nullable = true)\n",
      " |-- vehicle_body_type: string (nullable = true)\n",
      " |-- vehicle_make: string (nullable = true)\n",
      " |-- violation_precinct: integer (nullable = true)\n",
      " |-- issuer_precinct: integer (nullable = true)\n",
      " |-- violation_time: string (nullable = true)\n",
      " |-- violation_time_new: string (nullable = true)\n",
      " |-- violation_time_new_formatted: string (nullable = true)\n",
      "\n"
     ]
    }
   ],
   "source": [
    "maketime_udf_str_1 = udf(lambda x: x[0:2]+':'+x[2:4]+':00' if x[-1]==\"A\" or int(x[0:2]) in range(13,25) else str(int(x[0:2])+12)+':'+x[2:4]+':00', StringType())\n",
    "\n",
    "maketime_udf_str_2 = udf(lambda x: '00'+x[2:] if x[0:2]==\"24\" else x, StringType())\n",
    "new_df = new_df.withColumn('violation_time_new', maketime_udf_str_1('violation_time'))\n",
    "new_df = new_df.withColumn('violation_time_new', maketime_udf_str_2('violation_time_new'))\n",
    "new_df = new_df.withColumn('violation_time_new_formatted', date_format('violation_time_new', 'H:m:s'))\n",
    "\n",
    "new_df.printSchema()"
   ]
  },
  {
   "cell_type": "code",
   "execution_count": 51,
   "metadata": {},
   "outputs": [],
   "source": [
    "new_df.createOrReplaceTempView(\"bins_table\")"
   ]
  },
  {
   "cell_type": "code",
   "execution_count": 52,
   "metadata": {},
   "outputs": [
    {
     "name": "stdout",
     "output_type": "stream",
     "text": [
      "+--------------+----------------------------+-----+\n",
      "|violation_code|violation_time_new_formatted|count|\n",
      "+--------------+----------------------------+-----+\n",
      "|            40|                      8:10:0|  246|\n",
      "|            17|                     14:30:0|   55|\n",
      "|            48|                      10:5:0|   76|\n",
      "|            67|                     19:25:0|    5|\n",
      "|            50|                     14:16:0|   73|\n",
      "|            36|                      9:15:0| 1537|\n",
      "|            61|                      5:58:0|    7|\n",
      "|            36|                     11:46:0| 1836|\n",
      "|            36|                     16:56:0|   82|\n",
      "|            38|                     10:47:0|  862|\n",
      "|            36|                     13:55:0| 1543|\n",
      "|            14|                     18:46:0|  109|\n",
      "|            37|                     11:39:0|  398|\n",
      "|            71|                      6:34:0|  138|\n",
      "|            21|                      0:25:0| 1591|\n",
      "|            46|                     11:44:0|  460|\n",
      "|            21|                       8:7:0| 4480|\n",
      "|            19|                      0:27:0|  225|\n",
      "|            36|                       9:9:0| 1612|\n",
      "|            36|                      8:59:0| 1468|\n",
      "+--------------+----------------------------+-----+\n",
      "only showing top 20 rows\n",
      "\n"
     ]
    }
   ],
   "source": [
    "spark.sql(\"select violation_code, violation_time_new_formatted, count(*) count from bins_table group by violation_code, violation_time_new_formatted\").show()"
   ]
  },
  {
   "cell_type": "code",
   "execution_count": 54,
   "metadata": {},
   "outputs": [
    {
     "name": "stdout",
     "output_type": "stream",
     "text": [
      "+--------------+-----------------------------------------------------+------------------+\n",
      "|violation_code|number of tickets for the time bin for violation code|violation_time_bin|\n",
      "+--------------+-----------------------------------------------------+------------------+\n",
      "|            61|                                                  530|                 1|\n",
      "|            15|                                                    1|                 5|\n",
      "|            40|                                                25440|                 5|\n",
      "|            74|                                                15565|                 4|\n",
      "|            74|                                                 7573|                 5|\n",
      "|            41|                                                  954|                 3|\n",
      "|            23|                                                 1058|                 1|\n",
      "|            72|                                                  556|                 2|\n",
      "|             1|                                                  220|                 4|\n",
      "|             6|                                                   90|                 6|\n",
      "|            94|                                                    8|                 2|\n",
      "|            42|                                                   49|                 2|\n",
      "|            84|                                                10311|                 2|\n",
      "|             0|                                                   59|                 4|\n",
      "|            51|                                                 4592|                 2|\n",
      "|            63|                                                   17|                 2|\n",
      "|            49|                                                   37|                 6|\n",
      "|            58|                                                    7|                 3|\n",
      "|            50|                                                 5143|                 5|\n",
      "|            13|                                                 4214|                 3|\n",
      "+--------------+-----------------------------------------------------+------------------+\n",
      "only showing top 20 rows\n",
      "\n"
     ]
    }
   ],
   "source": [
    "result = spark.sql(\n",
    "    'SELECT `violation_code`, count(*) as `number of tickets for the time bin for violation code`, \\\n",
    "    CASE \\\n",
    "    WHEN HOUR(`violation_time_new_formatted`) IN (\"0\",\"1\",\"2\",\"3\") THEN \"1\" \\\n",
    "    WHEN HOUR(`violation_time_new_formatted`) IN (\"4\",\"5\",\"6\",\"7\") THEN \"2\" \\\n",
    "    WHEN HOUR(`violation_time_new_formatted`) IN (\"8\",\"9\",\"10\",\"11\") THEN \"3\" \\\n",
    "    WHEN HOUR(`violation_time_new_formatted`) IN (\"12\",\"13\",\"14\",\"15\") THEN \"4\" \\\n",
    "    WHEN HOUR(`violation_time_new_formatted`) IN (\"16\",\"17\",\"18\",\"19\") THEN \"5\" \\\n",
    "    WHEN HOUR(`violation_time_new_formatted`) IN (\"20\",\"21\",\"22\",\"23\") THEN \"6\" \\\n",
    "    END AS `violation_time_bin` \\\n",
    "    FROM bins_table \\\n",
    "    GROUP BY `violation_time_bin`,`violation_code`')\n",
    "result.show()"
   ]
  },
  {
   "cell_type": "code",
   "execution_count": 55,
   "metadata": {},
   "outputs": [],
   "source": [
    "result.createOrReplaceTempView(\"bins_table\")"
   ]
  },
  {
   "cell_type": "code",
   "execution_count": 56,
   "metadata": {},
   "outputs": [
    {
     "name": "stdout",
     "output_type": "stream",
     "text": [
      "+--------------+\n",
      "|violation_code|\n",
      "+--------------+\n",
      "|            97|\n",
      "|            53|\n",
      "|            85|\n",
      "+--------------+\n",
      "only showing top 3 rows\n",
      "\n"
     ]
    }
   ],
   "source": [
    "bin_1 = spark.sql(\"select violation_code from bins_table where violation_time_bin == 1 group by violation_code order by count(*) desc\")\n",
    "bin_1.show(3)"
   ]
  },
  {
   "cell_type": "code",
   "execution_count": 57,
   "metadata": {},
   "outputs": [
    {
     "name": "stdout",
     "output_type": "stream",
     "text": [
      "+--------------+\n",
      "|violation_code|\n",
      "+--------------+\n",
      "|            31|\n",
      "|            65|\n",
      "|            85|\n",
      "+--------------+\n",
      "only showing top 3 rows\n",
      "\n"
     ]
    }
   ],
   "source": [
    "bin_2 = spark.sql(\"select violation_code from bins_table where violation_time_bin == 2 group by violation_code order by count(*) desc\")\n",
    "bin_2.show(3)"
   ]
  },
  {
   "cell_type": "code",
   "execution_count": 58,
   "metadata": {},
   "outputs": [
    {
     "name": "stdout",
     "output_type": "stream",
     "text": [
      "+--------------+\n",
      "|violation_code|\n",
      "+--------------+\n",
      "|            65|\n",
      "|            53|\n",
      "|            31|\n",
      "+--------------+\n",
      "only showing top 3 rows\n",
      "\n"
     ]
    }
   ],
   "source": [
    "bin_3 = spark.sql(\"select violation_code from bins_table where violation_time_bin == 3 group by violation_code order by count(*) desc\")\n",
    "bin_3.show(3)"
   ]
  },
  {
   "cell_type": "code",
   "execution_count": 59,
   "metadata": {},
   "outputs": [
    {
     "name": "stdout",
     "output_type": "stream",
     "text": [
      "+--------------+\n",
      "|violation_code|\n",
      "+--------------+\n",
      "|            97|\n",
      "|            31|\n",
      "|            65|\n",
      "+--------------+\n",
      "only showing top 3 rows\n",
      "\n"
     ]
    }
   ],
   "source": [
    "bin_4 = spark.sql(\"select violation_code from bins_table where violation_time_bin == 4 group by violation_code order by count(*) desc\")\n",
    "bin_4.show(3)"
   ]
  },
  {
   "cell_type": "code",
   "execution_count": 60,
   "metadata": {},
   "outputs": [
    {
     "name": "stdout",
     "output_type": "stream",
     "text": [
      "+--------------+\n",
      "|violation_code|\n",
      "+--------------+\n",
      "|            92|\n",
      "|            53|\n",
      "|            65|\n",
      "+--------------+\n",
      "only showing top 3 rows\n",
      "\n"
     ]
    }
   ],
   "source": [
    "bin_5 = spark.sql(\"select violation_code from bins_table where violation_time_bin == 5 group by violation_code order by count(*) desc\")\n",
    "bin_5.show(3)"
   ]
  },
  {
   "cell_type": "code",
   "execution_count": 61,
   "metadata": {},
   "outputs": [
    {
     "name": "stdout",
     "output_type": "stream",
     "text": [
      "+--------------+\n",
      "|violation_code|\n",
      "+--------------+\n",
      "|            53|\n",
      "|            65|\n",
      "|            85|\n",
      "+--------------+\n",
      "only showing top 3 rows\n",
      "\n"
     ]
    }
   ],
   "source": [
    "bin_6 = spark.sql(\"select violation_code from bins_table where violation_time_bin == 6 group by violation_code order by count(*) desc\")\n",
    "bin_6.show(3)"
   ]
  },
  {
   "cell_type": "markdown",
   "metadata": {},
   "source": [
    "- For the three most commonly occurring violation codes, find the most common time of the day "
   ]
  },
  {
   "cell_type": "code",
   "execution_count": 62,
   "metadata": {},
   "outputs": [
    {
     "name": "stdout",
     "output_type": "stream",
     "text": [
      "+------------------+\n",
      "|violation_time_bin|\n",
      "+------------------+\n",
      "|                 3|\n",
      "|                 4|\n",
      "|                 1|\n",
      "+------------------+\n",
      "only showing top 3 rows\n",
      "\n"
     ]
    }
   ],
   "source": [
    "spark.sql(\"select violation_time_bin from bins_table group by violation_time_bin order by count(*) desc\").show(3)"
   ]
  },
  {
   "cell_type": "markdown",
   "metadata": {},
   "source": [
    "#### 6. Find some seasonality in this data:"
   ]
  },
  {
   "cell_type": "markdown",
   "metadata": {},
   "source": [
    "- First, divide the year into a certain number of seasons, and find the frequencies of tickets for each season."
   ]
  },
  {
   "cell_type": "code",
   "execution_count": null,
   "metadata": {},
   "outputs": [],
   "source": [
    "        # spring    March, April, May\n",
    "         #summer    June, July, August\n",
    "         #autumn    September, October, November\n",
    "         #winter    December, January, February"
   ]
  },
  {
   "cell_type": "code",
   "execution_count": 63,
   "metadata": {},
   "outputs": [
    {
     "name": "stdout",
     "output_type": "stream",
     "text": [
      "+--------------+---------------+------+\n",
      "|Violation_Code|Issuer_Precinct|season|\n",
      "+--------------+---------------+------+\n",
      "|            36|              0|summer|\n",
      "|            36|              0|summer|\n",
      "|            48|             78|spring|\n",
      "|            71|             72|spring|\n",
      "|            14|            112|spring|\n",
      "|            71|             67|summer|\n",
      "|            42|              1|winter|\n",
      "|            14|             63|winter|\n",
      "|            36|              0|spring|\n",
      "|            46|             71|summer|\n",
      "|            71|             66|winter|\n",
      "|            14|             84|summer|\n",
      "|            40|             23|spring|\n",
      "|            37|            977|spring|\n",
      "|            20|            114|spring|\n",
      "|            31|             13|summer|\n",
      "|            21|             42|spring|\n",
      "|             7|              0|spring|\n",
      "|            37|             19|winter|\n",
      "|            37|            106|spring|\n",
      "+--------------+---------------+------+\n",
      "only showing top 20 rows\n",
      "\n"
     ]
    }
   ],
   "source": [
    "seasonality = spark.sql(\"select Violation_Code , Issuer_Precinct, case when MONTH(TO_DATE(Issue_Date, 'MM/dd/yyyy')) between 03 and 05 then 'spring' when MONTH(TO_DATE(Issue_Date, 'MM/dd/yyyy')) between 06 and 08 then 'summer' when MONTH(TO_DATE(Issue_Date, 'MM/dd/yyyy')) between 09 and 11 then 'autumn' when MONTH(TO_DATE(Issue_Date, 'MM/dd/yyyy')) in (1,2,12) then 'winter' else 'unknown' end  as season from nyc_table\")\n",
    "seasonality.show()"
   ]
  },
  {
   "cell_type": "code",
   "execution_count": 64,
   "metadata": {},
   "outputs": [],
   "source": [
    "seasonality.createOrReplaceTempView(\"seasonality_table\")"
   ]
  },
  {
   "cell_type": "code",
   "execution_count": 65,
   "metadata": {},
   "outputs": [
    {
     "name": "stdout",
     "output_type": "stream",
     "text": [
      "+------+-------------+\n",
      "|season|no_of_tickets|\n",
      "+------+-------------+\n",
      "|spring|      2873383|\n",
      "|winter|      1704690|\n",
      "|summer|       852866|\n",
      "|autumn|          979|\n",
      "+------+-------------+\n",
      "\n"
     ]
    }
   ],
   "source": [
    "seasonality_frequency = spark.sql(\"select season, count(*) as no_of_tickets from seasonality_table group by season order by no_of_tickets desc\")\n",
    "seasonality_frequency.show()"
   ]
  },
  {
   "cell_type": "markdown",
   "metadata": {},
   "source": [
    "- Find the three most common violations for each of these seasons."
   ]
  },
  {
   "cell_type": "code",
   "execution_count": 66,
   "metadata": {},
   "outputs": [
    {
     "name": "stdout",
     "output_type": "stream",
     "text": [
      "+--------------+---------+\n",
      "|Violation_Code|Frequency|\n",
      "+--------------+---------+\n",
      "|            21|   402424|\n",
      "|            36|   344834|\n",
      "|            38|   271167|\n",
      "+--------------+---------+\n",
      "only showing top 3 rows\n",
      "\n"
     ]
    }
   ],
   "source": [
    "# Spring season\n",
    "spring = spark.sql(\"select Violation_Code, count(*) as Frequency from seasonality_table where season = 'spring' group by Violation_Code order by Frequency desc\" )\n",
    "spring.show(3)"
   ]
  },
  {
   "cell_type": "code",
   "execution_count": 67,
   "metadata": {},
   "outputs": [
    {
     "name": "stdout",
     "output_type": "stream",
     "text": [
      "+--------------+---------+\n",
      "|Violation_Code|Frequency|\n",
      "+--------------+---------+\n",
      "|            21|   238183|\n",
      "|            36|   221268|\n",
      "|            38|   187386|\n",
      "+--------------+---------+\n",
      "only showing top 3 rows\n",
      "\n"
     ]
    }
   ],
   "source": [
    "# Winter season\n",
    "winter = spark.sql(\"select Violation_Code, count(*) as Frequency from seasonality_table where season = 'winter' group by Violation_Code order by Frequency desc\" )\n",
    "winter.show(3)"
   ]
  },
  {
   "cell_type": "code",
   "execution_count": 68,
   "metadata": {},
   "outputs": [
    {
     "name": "stdout",
     "output_type": "stream",
     "text": [
      "+--------------+---------+\n",
      "|Violation_Code|Frequency|\n",
      "+--------------+---------+\n",
      "|            21|   127352|\n",
      "|            36|    96663|\n",
      "|            38|    83518|\n",
      "+--------------+---------+\n",
      "only showing top 3 rows\n",
      "\n"
     ]
    }
   ],
   "source": [
    "#  Summer season\n",
    "summer = spark.sql(\"select Violation_Code, count(*) as Frequency from seasonality_table where season = 'summer' group by Violation_Code order by Frequency desc\" )\n",
    "summer.show(3)"
   ]
  },
  {
   "cell_type": "code",
   "execution_count": 69,
   "metadata": {},
   "outputs": [
    {
     "name": "stdout",
     "output_type": "stream",
     "text": [
      "+--------------+---------+\n",
      "|Violation_Code|Frequency|\n",
      "+--------------+---------+\n",
      "|            46|      231|\n",
      "|            21|      128|\n",
      "|            40|      116|\n",
      "+--------------+---------+\n",
      "only showing top 3 rows\n",
      "\n"
     ]
    }
   ],
   "source": [
    "#  Autumn season\n",
    "autumn = spark.sql(\"select Violation_Code, count(*) as Frequency from seasonality_table where season = 'autumn' group by Violation_Code order by Frequency desc\" )\n",
    "autumn.show(3)"
   ]
  },
  {
   "cell_type": "markdown",
   "metadata": {},
   "source": [
    "#### 7. The fines collected from all the instances of parking violation constitute a source of revenue for the NYC Police Department. Let’s take an example of estimating this for the three most commonly occurring codes"
   ]
  },
  {
   "cell_type": "code",
   "execution_count": 70,
   "metadata": {},
   "outputs": [
    {
     "name": "stdout",
     "output_type": "stream",
     "text": [
      "+--------------+---------+\n",
      "|violation_code|frequency|\n",
      "+--------------+---------+\n",
      "|            21|   768087|\n",
      "|            36|   662765|\n",
      "|            38|   542079|\n",
      "+--------------+---------+\n",
      "only showing top 3 rows\n",
      "\n"
     ]
    }
   ],
   "source": [
    "common_violation = spark.sql(\"select violation_code, count(*) as frequency from nyc_table  group by violation_code order by frequency desc\")\n",
    "common_violation.show(3)"
   ]
  },
  {
   "cell_type": "markdown",
   "metadata": {},
   "source": [
    "- Find the total amount collected for the three violation codes with the maximum tickets. State the code that has the highest total collection."
   ]
  },
  {
   "cell_type": "code",
   "execution_count": 71,
   "metadata": {},
   "outputs": [
    {
     "name": "stdout",
     "output_type": "stream",
     "text": [
      "+--------------+---------+--------+\n",
      "|violation_code|frequency|    fine|\n",
      "+--------------+---------+--------+\n",
      "|            21|   768087|42244785|\n",
      "|            36|   662765|33138250|\n",
      "|            38|   542079|27103950|\n",
      "+--------------+---------+--------+\n",
      "only showing top 3 rows\n",
      "\n",
      "total collection =  102440250\n"
     ]
    }
   ],
   "source": [
    "from pyspark.sql.functions import when\n",
    "common_violation_fine=common_violation.withColumn(\"fine\",when(common_violation.violation_code == 21, (common_violation.frequency) *55).otherwise((common_violation.frequency)*50))\n",
    "common_violation_fine.show(3)\n",
    "print('total collection = ',767740*55+662765*50+541526*50)"
   ]
  },
  {
   "cell_type": "markdown",
   "metadata": {},
   "source": [
    "Code with 21 had the highest collection."
   ]
  },
  {
   "cell_type": "markdown",
   "metadata": {},
   "source": [
    "- What can you intuitively infer from these findings?"
   ]
  },
  {
   "cell_type": "code",
   "execution_count": null,
   "metadata": {},
   "outputs": [],
   "source": [
    "# 1. posted speed limit criteria is violated the most\n",
    "# 2. Jan to June - major violation\n",
    "# 3. Highest violation : code 21"
   ]
  },
  {
   "cell_type": "code",
   "execution_count": null,
   "metadata": {},
   "outputs": [],
   "source": [
    "spark.stop()"
   ]
  },
  {
   "cell_type": "code",
   "execution_count": null,
   "metadata": {},
   "outputs": [],
   "source": []
  },
  {
   "cell_type": "code",
   "execution_count": null,
   "metadata": {},
   "outputs": [],
   "source": []
  },
  {
   "cell_type": "code",
   "execution_count": null,
   "metadata": {},
   "outputs": [],
   "source": []
  }
 ],
 "metadata": {
  "kernelspec": {
   "display_name": "Python 3",
   "language": "python",
   "name": "python3"
  },
  "language_info": {
   "codemirror_mode": {
    "name": "ipython",
    "version": 3
   },
   "file_extension": ".py",
   "mimetype": "text/x-python",
   "name": "python",
   "nbconvert_exporter": "python",
   "pygments_lexer": "ipython3",
   "version": "3.7.3"
  }
 },
 "nbformat": 4,
 "nbformat_minor": 2
}
